{
 "cells": [
  {
   "cell_type": "code",
   "execution_count": 22,
   "metadata": {
    "collapsed": false
   },
   "outputs": [
    {
     "name": "stderr",
     "output_type": "stream",
     "text": [
      "/Users/tianjianwang/anaconda2/lib/python2.7/site-packages/matplotlib/__init__.py:1401: UserWarning:  This call to matplotlib.use() has no effect\n",
      "because the backend has already been chosen;\n",
      "matplotlib.use() must be called *before* pylab, matplotlib.pyplot,\n",
      "or matplotlib.backends is imported for the first time.\n",
      "\n",
      "  warnings.warn(_use_error_msg)\n"
     ]
    }
   ],
   "source": [
    "import sys\n",
    "import numpy as np\n",
    "import pandas as pd\n",
    "import matplotlib\n",
    "matplotlib.use('TkAgg')\n",
    "import matplotlib.pyplot as plt\n",
    "%matplotlib inline\n",
    "import seaborn as sns\n",
    "from sklearn import preprocessing\n",
    "\n",
    "from sklearn.model_selection import KFold as KF\n",
    "from sklearn.metrics import mean_absolute_error as MAE\n",
    "from sklearn.metrics import mean_squared_error as MSE\n",
    "from sklearn.metrics import r2_score as R2\n",
    "\n",
    "from sklearn.preprocessing import StandardScaler as Sscale\n",
    "from sklearn.decomposition import PCA\n",
    "\n",
    "\n",
    "from sklearn.linear_model import LinearRegression as LR\n",
    "from sklearn.tree import DecisionTreeRegressor as DTR\n",
    "from sklearn.neighbors import KNeighborsRegressor as KNN\n",
    "from sklearn.ensemble import RandomForestRegressor as RFR\n",
    "from sklearn.svm import SVR\n",
    "from sklearn.svm import LinearSVR\n",
    "from sklearn.neural_network import MLPRegressor as PR\n",
    "import time\n",
    "\n",
    "from sklearn.linear_model import SGDRegressor as SGDR"
   ]
  },
  {
   "cell_type": "code",
   "execution_count": 2,
   "metadata": {
    "collapsed": false
   },
   "outputs": [
    {
     "data": {
      "text/html": [
       "<div>\n",
       "<table border=\"1\" class=\"dataframe\">\n",
       "  <thead>\n",
       "    <tr style=\"text-align: right;\">\n",
       "      <th></th>\n",
       "      <th>Unnamed: 0</th>\n",
       "      <th>dateCrawled</th>\n",
       "      <th>price</th>\n",
       "      <th>abtest</th>\n",
       "      <th>vehicleType</th>\n",
       "      <th>yearOfRegistration</th>\n",
       "      <th>gearbox</th>\n",
       "      <th>powerPS</th>\n",
       "      <th>model</th>\n",
       "      <th>kilometer</th>\n",
       "      <th>monthOfRegistration</th>\n",
       "      <th>fuelType</th>\n",
       "      <th>brand</th>\n",
       "      <th>notRepairedDamage</th>\n",
       "      <th>postalCode</th>\n",
       "      <th>sellSpeed</th>\n",
       "    </tr>\n",
       "  </thead>\n",
       "  <tbody>\n",
       "    <tr>\n",
       "      <th>0</th>\n",
       "      <td>2</td>\n",
       "      <td>2016-03-14 12:52:21</td>\n",
       "      <td>9800</td>\n",
       "      <td>1</td>\n",
       "      <td>suv</td>\n",
       "      <td>55</td>\n",
       "      <td>1</td>\n",
       "      <td>163</td>\n",
       "      <td>grand</td>\n",
       "      <td>125.0</td>\n",
       "      <td>8</td>\n",
       "      <td>0</td>\n",
       "      <td>jeep</td>\n",
       "      <td>0</td>\n",
       "      <td>90</td>\n",
       "      <td>22 days 12:47:46.000000000</td>\n",
       "    </tr>\n",
       "    <tr>\n",
       "      <th>1</th>\n",
       "      <td>3</td>\n",
       "      <td>2016-03-17 16:54:04</td>\n",
       "      <td>1500</td>\n",
       "      <td>1</td>\n",
       "      <td>smallcar</td>\n",
       "      <td>52</td>\n",
       "      <td>0</td>\n",
       "      <td>75</td>\n",
       "      <td>golf</td>\n",
       "      <td>150.0</td>\n",
       "      <td>6</td>\n",
       "      <td>1</td>\n",
       "      <td>volkswagen</td>\n",
       "      <td>0</td>\n",
       "      <td>91</td>\n",
       "      <td>0 days 17:40:17.000000000</td>\n",
       "    </tr>\n",
       "    <tr>\n",
       "      <th>2</th>\n",
       "      <td>4</td>\n",
       "      <td>2016-03-31 17:25:20</td>\n",
       "      <td>3600</td>\n",
       "      <td>1</td>\n",
       "      <td>smallcar</td>\n",
       "      <td>59</td>\n",
       "      <td>0</td>\n",
       "      <td>69</td>\n",
       "      <td>fabia</td>\n",
       "      <td>90.0</td>\n",
       "      <td>7</td>\n",
       "      <td>0</td>\n",
       "      <td>skoda</td>\n",
       "      <td>0</td>\n",
       "      <td>60</td>\n",
       "      <td>6 days 10:17:21.000000000</td>\n",
       "    </tr>\n",
       "    <tr>\n",
       "      <th>3</th>\n",
       "      <td>5</td>\n",
       "      <td>2016-04-04 17:36:23</td>\n",
       "      <td>650</td>\n",
       "      <td>1</td>\n",
       "      <td>sedan</td>\n",
       "      <td>46</td>\n",
       "      <td>0</td>\n",
       "      <td>102</td>\n",
       "      <td>3er</td>\n",
       "      <td>150.0</td>\n",
       "      <td>10</td>\n",
       "      <td>1</td>\n",
       "      <td>bmw</td>\n",
       "      <td>1</td>\n",
       "      <td>33</td>\n",
       "      <td>2 days 19:17:07.000000000</td>\n",
       "    </tr>\n",
       "    <tr>\n",
       "      <th>4</th>\n",
       "      <td>6</td>\n",
       "      <td>2016-04-01 20:48:51</td>\n",
       "      <td>2200</td>\n",
       "      <td>1</td>\n",
       "      <td>convertible</td>\n",
       "      <td>55</td>\n",
       "      <td>0</td>\n",
       "      <td>109</td>\n",
       "      <td>2_reihe</td>\n",
       "      <td>150.0</td>\n",
       "      <td>8</td>\n",
       "      <td>1</td>\n",
       "      <td>peugeot</td>\n",
       "      <td>0</td>\n",
       "      <td>67</td>\n",
       "      <td>4 days 18:18:39.000000000</td>\n",
       "    </tr>\n",
       "  </tbody>\n",
       "</table>\n",
       "</div>"
      ],
      "text/plain": [
       "   Unnamed: 0          dateCrawled  price  abtest  vehicleType  \\\n",
       "0           2  2016-03-14 12:52:21   9800       1          suv   \n",
       "1           3  2016-03-17 16:54:04   1500       1     smallcar   \n",
       "2           4  2016-03-31 17:25:20   3600       1     smallcar   \n",
       "3           5  2016-04-04 17:36:23    650       1        sedan   \n",
       "4           6  2016-04-01 20:48:51   2200       1  convertible   \n",
       "\n",
       "   yearOfRegistration  gearbox  powerPS    model  kilometer  \\\n",
       "0                  55        1      163    grand      125.0   \n",
       "1                  52        0       75     golf      150.0   \n",
       "2                  59        0       69    fabia       90.0   \n",
       "3                  46        0      102      3er      150.0   \n",
       "4                  55        0      109  2_reihe      150.0   \n",
       "\n",
       "   monthOfRegistration  fuelType       brand  notRepairedDamage  postalCode  \\\n",
       "0                    8         0        jeep                  0          90   \n",
       "1                    6         1  volkswagen                  0          91   \n",
       "2                    7         0       skoda                  0          60   \n",
       "3                   10         1         bmw                  1          33   \n",
       "4                    8         1     peugeot                  0          67   \n",
       "\n",
       "                    sellSpeed  \n",
       "0  22 days 12:47:46.000000000  \n",
       "1   0 days 17:40:17.000000000  \n",
       "2   6 days 10:17:21.000000000  \n",
       "3   2 days 19:17:07.000000000  \n",
       "4   4 days 18:18:39.000000000  "
      ]
     },
     "execution_count": 2,
     "metadata": {},
     "output_type": "execute_result"
    }
   ],
   "source": [
    "# data loading\n",
    "cleanData = pd.read_csv('cleanData.csv', encoding='Latin1')\n",
    "cleanData.head(5)"
   ]
  },
  {
   "cell_type": "code",
   "execution_count": 3,
   "metadata": {
    "collapsed": false
   },
   "outputs": [
    {
     "data": {
      "text/plain": [
       "Unnamed: 0               int64\n",
       "dateCrawled             object\n",
       "price                    int64\n",
       "abtest                   int64\n",
       "yearOfRegistration       int64\n",
       "gearbox                  int64\n",
       "powerPS                  int64\n",
       "kilometer              float64\n",
       "monthOfRegistration      int64\n",
       "fuelType                 int64\n",
       "notRepairedDamage        int64\n",
       "postalCode               int64\n",
       "sellSpeed               object\n",
       "model_feat               int64\n",
       "brand_feat               int64\n",
       "vehicleType_feat         int64\n",
       "dtype: object"
      ]
     },
     "execution_count": 3,
     "metadata": {},
     "output_type": "execute_result"
    }
   ],
   "source": [
    "categoricalLabels = ['model', 'brand', 'vehicleType']\n",
    "encoder = {}\n",
    "\n",
    "encodedData = cleanData.copy()\n",
    "\n",
    "for label in categoricalLabels:\n",
    "    encoder[label] = preprocessing.LabelEncoder()\n",
    "    encoder[label].fit(encodedData[label])\n",
    "    tr = encoder[label].transform(encodedData[label]) \n",
    "    encodedData.loc[:, label + '_feat'] = pd.Series(tr, index=encodedData.index)\n",
    "    encodedData.drop(label, axis = 1, inplace = True)\n",
    "\n",
    "encodedData.dtypes"
   ]
  },
  {
   "cell_type": "code",
   "execution_count": 4,
   "metadata": {
    "collapsed": false
   },
   "outputs": [],
   "source": [
    "speedLabel = encodedData['sellSpeed']\n",
    "nextData = encodedData.drop(['sellSpeed', 'dateCrawled', 'Unnamed: 0'], axis = 1)\n",
    "numData = nextData.astype(float)\n",
    "numData.to_csv('data.csv')"
   ]
  },
  {
   "cell_type": "code",
   "execution_count": 5,
   "metadata": {
    "collapsed": false
   },
   "outputs": [
    {
     "data": {
      "text/plain": [
       "count    249317.000000\n",
       "mean       5999.257014\n",
       "std        6577.503117\n",
       "min         100.000000\n",
       "25%        1500.000000\n",
       "50%        3699.000000\n",
       "75%        7999.000000\n",
       "max       74900.000000\n",
       "Name: price, dtype: float64"
      ]
     },
     "execution_count": 5,
     "metadata": {},
     "output_type": "execute_result"
    }
   ],
   "source": [
    "labels = numData['price']\n",
    "labels.describe()"
   ]
  },
  {
   "cell_type": "code",
   "execution_count": 6,
   "metadata": {
    "collapsed": false
   },
   "outputs": [
    {
     "data": {
      "image/png": "[encoded data removed]",
      "text/plain": [
       "<matplotlib.figure.Figure at 0x110365110>"
      ]
     },
     "metadata": {},
     "output_type": "display_data"
    }
   ],
   "source": [
    "fig, ax = plt.subplots(figsize=(10,10)) \n",
    "sns.heatmap(numData.corr(), annot = False, vmax = 1.0, square = True, linewidth = 0.1, cmap=\"PuBuGn\", ax = ax)\n",
    "sns.plt.show()"
   ]
  },
  {
   "cell_type": "code",
   "execution_count": 30,
   "metadata": {
    "collapsed": false
   },
   "outputs": [],
   "source": [
    "X = numData.drop('price', axis = 1).values\n",
    "Y = labels.values\n",
    "\n",
    "kf = KF(n_splits = 10, random_state = 42)\n",
    "\n",
    "def CV_10_fold(clr, X, Y, islog = False):\n",
    "    score = 0.0\n",
    "    acc_score = 0.0\n",
    "    mean_absolute_score = 0.0\n",
    "    if islog:\n",
    "        origY = np.exp(Y)\n",
    "    i = -1\n",
    "    arrow = \"==========\"\n",
    "    for train, test in kf.split(X, Y):\n",
    "        i += 1\n",
    "        clr.fit(X[train], Y[train])\n",
    "        pred = clr.predict(X[test])\n",
    "        if islog:\n",
    "            pred = np.exp(pred)\n",
    "            real = origY[test]\n",
    "        else:\n",
    "            real = Y[test]\n",
    "        score += R2(X[test],Y[test])\n",
    "        acc_score += MSE(real,pred)\n",
    "        mean_absolute_score += MAE(real, pred)\n",
    "        arrow = arrow[:i]+\">\"+arrow[i+1:]\n",
    "        sys.stdout.write('\\r'+arrow)\n",
    "    \n",
    "    print \"\\r\\n\"\n",
    "    return (Y.shape[0], score/10, acc_score / 10, mean_absolute_score/10)"
   ]
  },
  {
   "cell_type": "code",
   "execution_count": 8,
   "metadata": {
    "collapsed": false
   },
   "outputs": [
    {
     "name": "stdout",
     "output_type": "stream",
     "text": [
      "0.535991\n",
      "0.225058\n",
      "0.156041\n",
      "0.067421\n",
      "0.011898\n",
      "0.002127\n",
      "0.001146\n",
      "(249317, 12)\n",
      "(249317, 7)\n"
     ]
    }
   ],
   "source": [
    "sca = Sscale()\n",
    "scaX = sca.fit_transform(X)\n",
    "\n",
    "\n",
    "pca = PCA(n_components = 7)\n",
    "pca.fit(X)\n",
    "for num in pca.explained_variance_ratio_:\n",
    "    print format(num, 'f')\n",
    "\n",
    "print X.shape\n",
    "pcaX = pca.transform(X)\n",
    "print pcaX.shape\n",
    "\n",
    "logY = np.log(Y)"
   ]
  },
  {
   "cell_type": "code",
   "execution_count": 39,
   "metadata": {
    "collapsed": false
   },
   "outputs": [
    {
     "name": "stdout",
     "output_type": "stream",
     "text": [
      ">>>>>>>>>>\n",
      "\n",
      "The whole number of examples is 249317\n",
      "The score of a Linear Regressor is 0.660868702317\n",
      "The mean squared error of a Linear Regressor is 14670896.4755\n",
      "The mean absolute error of a Linear Regressor is 2567.74155929\n"
     ]
    }
   ],
   "source": [
    "lr = LR()\n",
    "res = CV_10_fold(clr=lr, X=X, Y=Y)\n",
    "\n",
    "print \"The whole number of examples is {}\".format(res[0])\n",
    "print \"The score of a Linear Regressor is {}\".format(res[1])\n",
    "print \"The mean squared error of a Linear Regressor is {}\".format(res[2])\n",
    "print \"The mean absolute error of a Linear Regressor is {}\".format(res[3])"
   ]
  },
  {
   "cell_type": "code",
   "execution_count": 40,
   "metadata": {
    "collapsed": false
   },
   "outputs": [
    {
     "name": "stdout",
     "output_type": "stream",
     "text": [
      ">>>>>>>>>>\n",
      "\n",
      "The whole number of examples is 249317\n",
      "The score of a Linear Regressor is 0.756750400865\n",
      "The mean squared error of a Linear Regressor is 10521464.9002\n",
      "The mean absolute error of a Linear Regressor is 1781.07228354\n",
      "price                  float64\n",
      "abtest                 float64\n",
      "yearOfRegistration     float64\n",
      "gearbox                float64\n",
      "powerPS                float64\n",
      "kilometer              float64\n",
      "monthOfRegistration    float64\n",
      "fuelType               float64\n",
      "notRepairedDamage      float64\n",
      "postalCode             float64\n",
      "model_feat             float64\n",
      "brand_feat             float64\n",
      "vehicleType_feat       float64\n",
      "dtype: object\n",
      "[  2.51513925e-03   9.93959981e-02   5.56751107e-02   9.04614422e-03\n",
      "  -5.43327812e-03   4.42608296e-03  -2.21081334e-01  -6.25136385e-01\n",
      "   7.22229295e-04  -2.89276903e-04   4.31164406e-03  -4.76374499e-02]\n",
      "2.5260542206\n"
     ]
    }
   ],
   "source": [
    "lr = LR()\n",
    "\n",
    "res = CV_10_fold(clr = lr, X=X, Y = logY, islog = True)\n",
    "\n",
    "print \"The whole number of examples is {}\".format(res[0])\n",
    "print \"The score of a Linear Regressor is {}\".format(res[1])\n",
    "print \"The mean squared error of a Linear Regressor is {}\".format(res[2])\n",
    "print \"The mean absolute error of a Linear Regressor is {}\".format(res[3])\n",
    "print numData.dtypes\n",
    "print lr.coef_\n",
    "print lr.intercept_"
   ]
  },
  {
   "cell_type": "code",
   "execution_count": 34,
   "metadata": {
    "collapsed": false
   },
   "outputs": [
    {
     "name": "stdout",
     "output_type": "stream",
     "text": [
      ">>>>>>>>>>\n",
      "\n",
      "The whole number of examples is 249317\n",
      "The score of a Linear Regressor is 0.715581732013\n",
      "The mean squared error of a Linear Regressor is 12303344.4515\n",
      "The mean absolute error of a Linear Regressor is 1895.26615037\n"
     ]
    }
   ],
   "source": [
    "lr = LR()\n",
    "res = CV_10_fold(clr = lr, X=pcaX, Y = logY, islog = True)\n",
    "\n",
    "print \"The whole number of examples is {}\".format(res[0])\n",
    "print \"The score of a Linear Regressor is {}\".format(res[1])\n",
    "print \"The mean squared error of a Linear Regressor is {}\".format(res[2])\n",
    "print \"The mean absolute error of a Linear Regressor is {}\".format(res[3])"
   ]
  },
  {
   "cell_type": "code",
   "execution_count": 66,
   "metadata": {
    "collapsed": false
   },
   "outputs": [
    {
     "name": "stdout",
     "output_type": "stream",
     "text": [
      "The whole number of examples is 249317\n",
      "The score of a decision tree regressor is 0.847034911853\n",
      "The mean squared error of a decision tree regressor is 6615971.57016\n",
      "The mean absolute error of a decision tree regressor is 1262.649209\n"
     ]
    }
   ],
   "source": [
    "num_example, score, mse, mae = CV_10_fold(clr = DTR(random_state = 0), X=X, Y=Y)\n",
    "print \"The whole number of examples is {}\".format(num_example)\n",
    "print \"The score of a decision tree regressor is {}\".format(score)\n",
    "print \"The mean squared error of a decision tree regressor is {}\".format(mse)\n",
    "print \"The mean absolute error of a decision tree regressor is {}\".format(mae)"
   ]
  },
  {
   "cell_type": "code",
   "execution_count": 41,
   "metadata": {
    "collapsed": false
   },
   "outputs": [
    {
     "name": "stdout",
     "output_type": "stream",
     "text": [
      ">>>>>>>>>>\n",
      "\n",
      "0.883220868266 16 27\n",
      ">>>>>>>>>>\n",
      "\n",
      "0.883417851588 16 28\n",
      ">>>>>>>>>>\n",
      "\n",
      "0.883151837988 16 29\n",
      ">>>>>>>>>>\n",
      "\n",
      "0.883461443362 17 27\n",
      ">>>>>>>>>>\n",
      "\n",
      "0.883729636339 17 28\n",
      ">>>>>>>>>>\n",
      "\n",
      "0.883610386095 17 29\n",
      ">>>>>>>>>>\n",
      "\n",
      "0.883661175181 18 27\n",
      ">>>>>>>>>>\n",
      "\n",
      "0.883919220645 18 28\n",
      ">>>>>>>>>>\n",
      "\n",
      "0.883671124057 18 29\n",
      "18 28\n"
     ]
    }
   ],
   "source": [
    "diff_depth = [x for x in xrange(16, 19)]\n",
    "diff_split = [x for x in xrange(27, 30)]\n",
    "minimum = 0\n",
    "min_depth = 0\n",
    "min_split = 0\n",
    "for depth in diff_depth:\n",
    "    for split in diff_split:\n",
    "        dtr = DTR(max_depth=depth, random_state = 0, min_samples_split = split)\n",
    "        temp_error = CV_10_fold(clr = dtr, X=X, Y=Y)\n",
    "\n",
    "        if temp_error[1] > minimum:\n",
    "            minimum = temp_error[1]\n",
    "            min_depth = depth\n",
    "            min_split = split\n",
    "        print temp_error[1], depth, split\n",
    "    \n",
    "print min_depth, min_split"
   ]
  },
  {
   "cell_type": "code",
   "execution_count": 42,
   "metadata": {
    "collapsed": false
   },
   "outputs": [
    {
     "name": "stdout",
     "output_type": "stream",
     "text": [
      ">>>>>>>>>>\n",
      "\n",
      "The whole number of examples is 249317\n",
      "The score of a decision tree regressor is 0.883919220645\n",
      "The mean squared error of a decision tree regressor is 5022391.52348\n",
      "The mean absolute error of a decision tree regressor is 1202.70431642\n"
     ]
    }
   ],
   "source": [
    "orig_dtr = DTR(max_depth=18, random_state = 0, min_samples_split = 28)\n",
    "num_example, score, mse, mae = CV_10_fold(clr = orig_dtr, X= X, Y=Y)\n",
    "print \"The whole number of examples is {}\".format(num_example)\n",
    "print \"The score of a decision tree regressor is {}\".format(score)\n",
    "print \"The mean squared error of a decision tree regressor is {}\".format(mse)\n",
    "print \"The mean absolute error of a decision tree regressor is {}\".format(mae)"
   ]
  },
  {
   "cell_type": "code",
   "execution_count": 68,
   "metadata": {
    "collapsed": false,
    "scrolled": true
   },
   "outputs": [
    {
     "name": "stdout",
     "output_type": "stream",
     "text": [
      "price                  float64\n",
      "abtest                 float64\n",
      "yearOfRegistration     float64\n",
      "gearbox                float64\n",
      "powerPS                float64\n",
      "kilometer              float64\n",
      "monthOfRegistration    float64\n",
      "fuelType               float64\n",
      "notRepairedDamage      float64\n",
      "postalCode             float64\n",
      "model_feat             float64\n",
      "brand_feat             float64\n",
      "vehicleType_feat       float64\n",
      "dtype: object\n",
      "[  1.11847595e-04   6.02744851e-01   4.61250536e-03   2.69297342e-01\n",
      "   2.37548175e-02   2.72727025e-03   6.82145935e-03   5.05872386e-03\n",
      "   7.34884941e-03   3.24026815e-02   2.45856342e-02   2.05340185e-02]\n"
     ]
    }
   ],
   "source": [
    "print numData.dtypes\n",
    "print orig_dtr.feature_importances_"
   ]
  },
  {
   "cell_type": "code",
   "execution_count": 101,
   "metadata": {
    "collapsed": false
   },
   "outputs": [
    {
     "name": "stdout",
     "output_type": "stream",
     "text": [
      "0.834822172439 16 46\n",
      "0.835196976325 16 47\n",
      "0.835351538949 16 48\n",
      "0.834519261058 16 49\n",
      "0.834872193921 17 46\n",
      "0.835070266707 17 47\n",
      "0.835283000395 17 48\n",
      "0.83499961956 17 49\n",
      "0.83515141653 18 46\n",
      "0.835279505687 18 47\n",
      "0.835398854898 18 48\n",
      "0.835327225004 18 49\n",
      "0.835055198477 19 46\n",
      "0.835313166823 19 47\n",
      "0.835034511861 19 48\n",
      "0.835085228162 19 49\n",
      "18 48\n",
      "The whole number of examples is 249317\n",
      "The score of a decision tree regressor is 0.835398854898\n",
      "The mean squared error of a decision tree regressor is 7121484.43781\n",
      "The mean absolute error of a decision tree regressor is 1452.93120017\n"
     ]
    }
   ],
   "source": [
    "diff_depth = [x for x in xrange(16,20)]\n",
    "diff_split = [x for x in xrange(46, 50)]\n",
    "minimum = 0\n",
    "min_depth = 0\n",
    "min_split = 0\n",
    "for depth in diff_depth:\n",
    "    for split in diff_split:\n",
    "        dtr = DTR(max_depth=depth, random_state = 0, min_samples_split = split)\n",
    "        temp_error = CV_10_fold(clr=dtr, X = pcaX, Y=Y)\n",
    "\n",
    "        if temp_error[1] > minimum:\n",
    "            minimum = temp_error[1]\n",
    "            min_depth = depth\n",
    "            min_split = split\n",
    "        print temp_error[1], depth, split\n",
    "    \n",
    "print min_depth, min_split\n",
    "\n",
    "orig_dtr = DTR(max_depth=min_depth, random_state = 0, min_samples_split = min_split)\n",
    "num_example, score, mse, mae = CV_10_fold(clr=orig_dtr, X=pcaX, Y=Y)\n",
    "print \"The whole number of examples is {}\".format(num_example)\n",
    "print \"The score of a decision tree regressor is {}\".format(score)\n",
    "print \"The mean squared error of a decision tree regressor is {}\".format(mse)\n",
    "print \"The mean absolute error of a decision tree regressor is {}\".format(mae)"
   ]
  },
  {
   "cell_type": "code",
   "execution_count": 108,
   "metadata": {
    "collapsed": false
   },
   "outputs": [
    {
     "name": "stdout",
     "output_type": "stream",
     "text": [
      "0.858254293902 15 60\n",
      "0.858270575291 15 61\n",
      "0.858320700416 15 62\n",
      "0.858203710187 15 63\n",
      "0.85935698663 16 60\n",
      "0.859206067511 16 61\n",
      "0.859371199316 16 62\n",
      "0.859264829467 16 63\n",
      "0.859297790184 17 60\n",
      "0.859239834462 17 61\n",
      "0.859364409023 17 62\n",
      "0.859236162777 17 63\n",
      "16 62\n",
      "The whole number of examples is 249317\n",
      "The score of a decision tree regressor is 0.859371199316\n",
      "The mean squared error of a decision tree regressor is 5621359.22482\n",
      "The mean absolute error of a decision tree regressor is 1253.89939144\n"
     ]
    }
   ],
   "source": [
    "diff_depth = [x for x in xrange(15,18)]\n",
    "diff_split = [x for x in xrange(60, 64)]\n",
    "minimum = 0\n",
    "min_depth = 0\n",
    "min_split = 0\n",
    "for depth in diff_depth:\n",
    "    for split in diff_split:\n",
    "        dtr = DTR(max_depth=depth, random_state = 0, min_samples_split = split)\n",
    "        temp_error = CV_10_fold(clr=dtr, X = X, Y=logY, islog = True)\n",
    "\n",
    "        if temp_error[1] > minimum:\n",
    "            minimum = temp_error[1]\n",
    "            min_depth = depth\n",
    "            min_split = split\n",
    "        print temp_error[1], depth, split\n",
    "    \n",
    "print min_depth, min_split\n",
    "\n",
    "orig_dtr = DTR(max_depth=min_depth, random_state = 0, min_samples_split = min_split)\n",
    "num_example, score, mse, mae = CV_10_fold(clr=orig_dtr, X=X, Y=logY, islog = True)\n",
    "print \"The whole number of examples is {}\".format(num_example)\n",
    "print \"The score of a decision tree regressor is {}\".format(score)\n",
    "print \"The mean squared error of a decision tree regressor is {}\".format(mse)\n",
    "print \"The mean absolute error of a decision tree regressor is {}\".format(mae)"
   ]
  },
  {
   "cell_type": "code",
   "execution_count": null,
   "metadata": {
    "collapsed": true
   },
   "outputs": [],
   "source": [
    "reducedX = numData.drop(['price', 'abtest', 'postalCode', 'monthOfRegistration'], axis = 1).values"
   ]
  },
  {
   "cell_type": "code",
   "execution_count": 126,
   "metadata": {
    "collapsed": false
   },
   "outputs": [
    {
     "name": "stdout",
     "output_type": "stream",
     "text": [
      "0.892893160111 21 18\n",
      "0.893869675636 21 19\n",
      "0.893754677222 21 20\n",
      "0.894024043311 21 21\n",
      "0.894041284949 21 22\n",
      "0.893919090504 21 23\n",
      "0.893331772491 21 24\n",
      "0.892951894295 22 18\n",
      "0.8937345863 22 19\n",
      "0.894049933105 22 20\n",
      "0.893893482737 22 21\n",
      "0.894359112496 22 22\n",
      "0.893903402009 22 23\n",
      "0.893726401538 22 24\n",
      "0.892771810432 23 18\n",
      "0.893716664114 23 19\n",
      "0.893761415943 23 20\n",
      "0.893774376308 23 21\n",
      "0.894226594292 23 22\n",
      "0.893636670344 23 23\n",
      "0.893511925167 23 24\n",
      "0.892797255789 24 18\n",
      "0.893493768434 24 19\n",
      "0.893797478072 24 20\n",
      "0.894230878312 24 21\n",
      "0.894233647999 24 22\n",
      "0.893862002706 24 23\n",
      "0.893681075556 24 24\n",
      "0.89289065642 25 18\n",
      "0.893645786318 25 19\n",
      "0.89418955227 25 20\n",
      "0.894184330201 25 21\n",
      "0.894151919501 25 22\n",
      "0.893472813405 25 23\n",
      "0.893750028627 25 24\n",
      "0.892729682149 26 18\n",
      "0.893799984745 26 19\n",
      "0.893825734848 26 20\n",
      "0.894131223684 26 21\n",
      "0.894270578779 26 22\n",
      "0.893560811581 26 23\n",
      "0.893785939419 26 24\n",
      "0.892490102692 27 18\n",
      "0.893774251401 27 19\n",
      "0.893773530811 27 20\n",
      "0.894080791296 27 21\n",
      "0.893888391912 27 22\n",
      "0.893755151536 27 23\n",
      "0.893517068075 27 24\n",
      "22 22\n",
      "The whole number of examples is 249317\n",
      "The score of a decision tree regressor is 0.894359112496\n",
      "The mean squared error of a decision tree regressor is 4570745.34737\n",
      "The mean absolute error of a decision tree regressor is 1145.535976\n"
     ]
    }
   ],
   "source": [
    "diff_depth = [x for x in xrange(21,28)]\n",
    "diff_split = [x for x in xrange(18, 25)]\n",
    "minimum = 0\n",
    "min_depth = 0\n",
    "min_split = 0\n",
    "for depth in diff_depth:\n",
    "    for split in diff_split:\n",
    "        dtr = DTR(max_depth=depth, random_state = 0, min_samples_split = split)\n",
    "        temp_error = CV_10_fold(clr=dtr, X = reducedX, Y=Y)\n",
    "\n",
    "        if temp_error[1] > minimum:\n",
    "            minimum = temp_error[1]\n",
    "            min_depth = depth\n",
    "            min_split = split\n",
    "        print temp_error[1], depth, split\n",
    "    \n",
    "print min_depth, min_split\n",
    "\n",
    "orig_dtr = DTR(max_depth=min_depth, random_state = 0, min_samples_split = min_split)\n",
    "num_example, score, mse, mae = CV_10_fold(clr=orig_dtr, X=reducedX, Y=Y)\n",
    "print \"The whole number of examples is {}\".format(num_example)\n",
    "print \"The score of a decision tree regressor is {}\".format(score)\n",
    "print \"The mean squared error of a decision tree regressor is {}\".format(mse)\n",
    "print \"The mean absolute error of a decision tree regressor is {}\".format(mae)"
   ]
  },
  {
   "cell_type": "code",
   "execution_count": 32,
   "metadata": {
    "collapsed": false
   },
   "outputs": [
    {
     "name": "stdout",
     "output_type": "stream",
     "text": [
      "0.83356915402 5\n",
      "0.833513467911 7\n",
      "0.832051489381 9\n",
      "5\n",
      "The whole number of examples is 249317\n",
      "The score of a K-Nearest-Neighbor regressor is 0.807896024066\n",
      "The mean squared error of a K-Nearest-Neighbor regressor is 8312363.10497\n",
      "The mean absolute error of a K-Nearest-Neighbor regressor is 1583.34378046\n"
     ]
    }
   ],
   "source": [
    "diff_near = [2*x+1 for x in xrange(2,5)]\n",
    "minimum = 0\n",
    "min_near = 0\n",
    "for near in diff_near:\n",
    "    nn = KNN(n_neighbors = near, weights = 'distance')\n",
    "    temp_error = CV_10_fold(clr=nn, X = X, Y=Y)\n",
    "\n",
    "    if temp_error[1] > minimum:\n",
    "        minimum = temp_error[1]\n",
    "        min_near = near\n",
    "    print temp_error[1], near\n",
    "    \n",
    "print min_near\n",
    "\n",
    "orig_nn = KNN(n_neighbors = min_near)\n",
    "num_example, score, mse, mae = CV_10_fold(clr=orig_nn, X=X, Y=Y)\n",
    "print \"The whole number of examples is {}\".format(num_example)\n",
    "print \"The score of a K-Nearest-Neighbor regressor is {}\".format(score)\n",
    "print \"The mean squared error of a K-Nearest-Neighbor regressor is {}\".format(mse)\n",
    "print \"The mean absolute error of a K-Nearest-Neighbor regressor is {}\".format(mae)"
   ]
  },
  {
   "cell_type": "code",
   "execution_count": 43,
   "metadata": {
    "collapsed": false
   },
   "outputs": [
    {
     "name": "stdout",
     "output_type": "stream",
     "text": [
      ">>>>>>>>>>\n",
      "\n",
      "The whole number of examples is 249317\n",
      "The score of a 3-Nearest Neighbor Regressor is 0.83356915402\n",
      "The mean squared error of a 3-Nearest Neighbor Regressor is 7202274.13043\n",
      "The mean absolute error of a 3-Nearest Neighbor Regressor is 1375.66674426\n"
     ]
    }
   ],
   "source": [
    "threeNn = KNN(n_neighbors=5, weights = 'distance')\n",
    "res = CV_10_fold(clr = threeNn, X=X, Y = Y)\n",
    "\n",
    "print \"The whole number of examples is {}\".format(res[0])\n",
    "print \"The score of a 3-Nearest Neighbor Regressor is {}\".format(res[1])\n",
    "print \"The mean squared error of a 3-Nearest Neighbor Regressor is {}\".format(res[2])\n",
    "print \"The mean absolute error of a 3-Nearest Neighbor Regressor is {}\".format(res[3])"
   ]
  },
  {
   "cell_type": "code",
   "execution_count": 131,
   "metadata": {
    "collapsed": false
   },
   "outputs": [
    {
     "name": "stdout",
     "output_type": "stream",
     "text": [
      "0.910798260701 22 2\n",
      "0.911204928507 22 3\n",
      "0.911445453836 22 4\n",
      "0.911472204403 22 5\n",
      "0.911566681952 22 6\n",
      "0.911575916189 22 7\n",
      "0.911600579715 22 8\n",
      "0.910621597386 23 2\n",
      "0.911413568792 23 3\n",
      "0.91154889792 23 4\n",
      "0.911480103942 23 5\n",
      "0.911449801457 23 6\n",
      "0.911598591121 23 7\n",
      "0.911318003683 23 8\n",
      "0.911076244126 24 2\n",
      "0.911171528889 24 3\n",
      "0.911361527217 24 4\n",
      "0.911361681032 24 5\n",
      "0.911682246797 24 6\n",
      "0.911653937528 24 7\n",
      "0.911697232226 24 8\n",
      "0.910690570591 25 2\n",
      "0.910738228764 25 3\n",
      "0.911445707652 25 4\n",
      "0.911443357285 25 5\n",
      "0.911679641365 25 6\n",
      "0.911759115212 25 7\n",
      "0.911607986435 25 8\n",
      "0.910760499963 26 2\n",
      "0.911129840023 26 3\n",
      "0.91122256896 26 4\n",
      "0.911493856238 26 5\n",
      "0.911519316593 26 6\n",
      "0.91171013831 26 7\n",
      "0.911619527451 26 8\n",
      "0.910718809925 27 2\n",
      "0.911251831839 27 3\n",
      "0.911256326678 27 4\n",
      "0.911440249298 27 5\n",
      "0.911590135499 27 6\n",
      "0.911865124332 27 7\n",
      "0.911685727761 27 8\n",
      "27 7\n"
     ]
    }
   ],
   "source": [
    "diff_depth = [x for x in xrange(22,28)]\n",
    "diff_split = [x for x in xrange(2, 9)]\n",
    "minimum = 0\n",
    "min_depth = 0\n",
    "min_split = 0\n",
    "for depth in diff_depth:\n",
    "    for split in diff_split:\n",
    "        rfr = RFR(max_depth=depth, min_samples_split=split, random_state=0, n_estimators = 10)\n",
    "        temp_error = CV_10_fold(clr=rfr, X = X, Y=Y)\n",
    "\n",
    "        if temp_error[1] > minimum:\n",
    "            minimum = temp_error[1]\n",
    "            min_depth = depth\n",
    "            min_split = split\n",
    "        print temp_error[1], depth, split\n",
    "    \n",
    "print min_depth, min_split"
   ]
  },
  {
   "cell_type": "code",
   "execution_count": 132,
   "metadata": {
    "collapsed": false
   },
   "outputs": [
    {
     "name": "stdout",
     "output_type": "stream",
     "text": [
      "The whole number of examples is 249317\n",
      "The score of a 3-Nearest Neighbor Regressor is 0.917760224312\n",
      "The mean squared error of a 3-Nearest Neighbor Regressor is 3557359.23571\n",
      "The mean absolute error of a 3-Nearest Neighbor Regressor is 1008.26873769\n"
     ]
    }
   ],
   "source": [
    "rfr = RFR(max_depth=27, min_samples_split=7, random_state=0, n_estimators = 100)\n",
    "\n",
    "res = CV_10_fold(clr = rfr, X=X, Y = Y)\n",
    "\n",
    "print \"The whole number of examples is {}\".format(res[0])\n",
    "print \"The score of a 3-Nearest Neighbor Regressor is {}\".format(res[1])\n",
    "print \"The mean squared error of a 3-Nearest Neighbor Regressor is {}\".format(res[2])\n",
    "print \"The mean absolute error of a 3-Nearest Neighbor Regressor is {}\".format(res[3])"
   ]
  },
  {
   "cell_type": "code",
   "execution_count": 35,
   "metadata": {
    "collapsed": false
   },
   "outputs": [
    {
     "name": "stdout",
     "output_type": "stream",
     "text": [
      ">>>>>>>>>>\n",
      "\n",
      "The whole number of examples is 249317\n",
      "The score of an SVM Regressor is 0.764798357858\n",
      "The mean squared error of an SVM Regressor is 10172601.6624\n",
      "The mean absolute error of an SVM Regressor is 1728.23019248\n"
     ]
    }
   ],
   "source": [
    "lsvr = LinearSVR(random_state = 0)\n",
    "res = CV_10_fold(clr = lsvr, X=scaX, Y = logY, islog = True)\n",
    "\n",
    "print \"The whole number of examples is {}\".format(res[0])\n",
    "print \"The score of an SVM Regressor is {}\".format(res[1])\n",
    "print \"The mean squared error of an SVM Regressor is {}\".format(res[2])\n",
    "print \"The mean absolute error of an SVM Regressor is {}\".format(res[3])"
   ]
  },
  {
   "cell_type": "code",
   "execution_count": 36,
   "metadata": {
    "collapsed": false
   },
   "outputs": [
    {
     "name": "stdout",
     "output_type": "stream",
     "text": [
      "The whole number of examples is 249317\n",
      "The score of an SVM Regressor is 0.848687670895\n",
      "The mean squared error of an SVM is 5598044.31158\n",
      "The mean absolute error of an SVM Regressor is 1287.9235301\n"
     ]
    }
   ],
   "source": [
    "svm = SVR(kernel=\"rbf\", max_iter=500000)\n",
    "res = CV_10_fold(clr = svm, X=scaX, Y=logY,islog=True)\n",
    "\n",
    "print \"The whole number of examples is {}\".format(res[0])\n",
    "print \"The score of an SVM Regressor is {}\".format(res[1])\n",
    "print \"The mean squared error of an SVM is {}\".format(res[2])\n",
    "print \"The mean absolute error of an SVM Regressor is {}\".format(res[3])"
   ]
  },
  {
   "cell_type": "code",
   "execution_count": 18,
   "metadata": {
    "collapsed": false
   },
   "outputs": [
    {
     "name": "stdout",
     "output_type": "stream",
     "text": [
      "started training!\n"
     ]
    },
    {
     "name": "stderr",
     "output_type": "stream",
     "text": [
      "/Users/tianjianwang/anaconda2/lib/python2.7/site-packages/sklearn/svm/base.py:220: ConvergenceWarning: Solver terminated early (max_iter=1000000).  Consider pre-processing your data with StandardScaler or MinMaxScaler.\n",
      "  % self.max_iter, ConvergenceWarning)\n"
     ]
    },
    {
     "name": "stdout",
     "output_type": "stream",
     "text": [
      "The whole number of examples is 249317\n",
      "The score of an SVM Regressor is 0.817460874623\n",
      "The mean squared error of an SVM is 8845903.20738\n",
      "The mean absolute error of an SVM Regressor is 1527.81984839\n"
     ]
    }
   ],
   "source": [
    "print \"started training!\"\n",
    "svm = SVR(kernel=\"poly\", max_iter = 1000000)\n",
    "\n",
    "res = CV_10_fold(clr = svm, X=scaX, Y = logY, islog = True)\n",
    "\n",
    "print \"The whole number of examples is {}\".format(res[0])\n",
    "print \"The score of an SVM Regressor is {}\".format(res[1])\n",
    "print \"The mean squared error of an SVM is {}\".format(res[2])\n",
    "print \"The mean absolute error of an SVM Regressor is {}\".format(res[3])"
   ]
  },
  {
   "cell_type": "code",
   "execution_count": 46,
   "metadata": {
    "collapsed": false
   },
   "outputs": [
    {
     "name": "stdout",
     "output_type": "stream",
     "text": [
      "0.806405483455\n"
     ]
    }
   ],
   "source": [
    "pr = PR(hidden_layer_sizes = (1000,1000), activation = 'logistic', alpha = 0.01, batch_size = 1000, random_state = 0, early_stopping = True, max_iter = 200)\n",
    "\n",
    "from sklearn.model_selection import train_test_split as tts\n",
    "X_train, X_test, Y_train, Y_test = tts(X, Y, test_size = 0.15, random_state = 42)\n",
    "pr.fit(X_train, Y_train)\n",
    "print pr.score(X_test, Y_test)"
   ]
  },
  {
   "cell_type": "code",
   "execution_count": 54,
   "metadata": {
    "collapsed": false
   },
   "outputs": [
    {
     "name": "stdout",
     "output_type": "stream",
     "text": [
      "start perdicting after 51.7032878399 seconds\n",
      "0.786255561983\n",
      "finish predicting after 0.655018806458 seconds\n"
     ]
    }
   ],
   "source": [
    "start_time = time.time()\n",
    "pr = PR(hidden_layer_sizes = (100,100), activation = 'tanh', alpha = 0.01, batch_size = 1000, random_state = 0, early_stopping = True, max_iter = 200, learning_rate_init = 0.01)\n",
    "\n",
    "from sklearn.model_selection import train_test_split as tts\n",
    "X_train, X_test, Y_train, Y_test = tts(scaX, logY, test_size = 0.4, random_state = 42)\n",
    "pr.fit(X_train, Y_train)\n",
    "print \"start perdicting after {} seconds\".format(time.time() - start_time)\n",
    "start_time = time.time()\n",
    "print R2(np.exp(pr.predict(X_test)), np.exp(Y_test))\n",
    "print \"finish predicting after {} seconds\".format(time.time() - start_time)"
   ]
  },
  {
   "cell_type": "code",
   "execution_count": 73,
   "metadata": {
    "collapsed": false
   },
   "outputs": [
    {
     "name": "stdout",
     "output_type": "stream",
     "text": [
      ">>>>>>>>>>\n",
      "\n",
      "The whole number of examples is 249317\n",
      "The score of a neural network regressor is 0.856573518169\n",
      "The mean squared error of a neural network regressor is 6205846.53844\n",
      "The mean absolute error of a neural network regressor is 1326.67005934\n"
     ]
    }
   ],
   "source": [
    "pr = PR(hidden_layer_sizes = (200,200), activation = 'tanh', alpha = 0.01, batch_size = 1000, random_state = 0, early_stopping = True, max_iter = 50, learning_rate_init = 0.01)\n",
    "\n",
    "res = CV_10_fold(clr = pr, X=scaX, Y = logY, islog = True)\n",
    "\n",
    "print \"The whole number of examples is {}\".format(res[0])\n",
    "print \"The score of a neural network regressor is {}\".format(res[1])\n",
    "print \"The mean squared error of a neural network regressor is {}\".format(res[2])\n",
    "print \"The mean absolute error of a neural network regressor is {}\".format(res[3])"
   ]
  },
  {
   "cell_type": "code",
   "execution_count": 81,
   "metadata": {
    "collapsed": true
   },
   "outputs": [],
   "source": [
    "import time\n",
    "start_time = time.time()\n",
    "X_train, X_test, Y_train, Y_test = tts(X, Y, test_size = 0.4, random_state = 10)\n",
    "logY_train, logY_test = np.log(Y_train), np.log(Y_test)\n",
    "sca = Sscale()\n",
    "scaX_train, scaX_test = sca.fit_transform(X_train), sca.fit_transform(X_test)"
   ]
  },
  {
   "cell_type": "code",
   "execution_count": 64,
   "metadata": {
    "collapsed": false
   },
   "outputs": [
    {
     "name": "stdout",
     "output_type": "stream",
     "text": [
      "LR score: 0.731635690783\n",
      "LR trained 0.344702005386 seconds\n",
      "DTR score: 0.863908050658\n",
      "DTR trained 0.822289943695 seconds\n",
      "KNN score: 0.782747210155\n",
      "KNN trained 9.94533514977 seconds\n",
      "RFR score: 0.899617117881\n",
      "RFR trained 69.5172979832 seconds\n"
     ]
    }
   ],
   "source": [
    "lr = LR()\n",
    "lr.fit(X_train, logY_train)\n",
    "lrpred = lr.predict(X_test)\n",
    "lrdata = np.exp(lrpred)\n",
    "print \"LR score: {}\".format(R2(lrdata, Y_test))\n",
    "print(\"LR trained %s seconds\" % (time.time() - start_time))\n",
    "start_time = time.time()\n",
    "\n",
    "dtr = DTR(max_depth=18, random_state = 0, min_samples_split = 28)\n",
    "dtr.fit(X_train, Y_train)\n",
    "dtrdata = dtr.predict(X_test)\n",
    "print \"DTR score: {}\".format(R2(dtrdata, Y_test))\n",
    "print(\"DTR trained %s seconds\" % (time.time() - start_time))\n",
    "start_time = time.time()\n",
    "\n",
    "kNn = KNN(n_neighbors=5, weights = 'distance')\n",
    "kNn.fit(X_train, Y_train)\n",
    "kNNdata = kNn.predict(X_test)\n",
    "print \"KNN score: {}\".format(R2(kNNdata, Y_test))\n",
    "print(\"KNN trained %s seconds\" % (time.time() - start_time))\n",
    "start_time = time.time()\n",
    "\n",
    "rfr = RFR(max_depth=27, min_samples_split=7, random_state=0, n_estimators = 100)\n",
    "rfr.fit(X_train, Y_train)\n",
    "rfrdata = rfr.predict(X_test)\n",
    "print \"RFR score: {}\".format(R2(rfrdata, Y_test))\n",
    "print(\"RFR trained %s seconds\" % (time.time() - start_time))"
   ]
  },
  {
   "cell_type": "code",
   "execution_count": 70,
   "metadata": {
    "collapsed": false
   },
   "outputs": [
    {
     "name": "stdout",
     "output_type": "stream",
     "text": [
      "SVM score: 0.843605459733\n",
      "SVM trained 8785.62111521 seconds\n"
     ]
    }
   ],
   "source": [
    "start_time = time.time()\n",
    "svm = SVR(kernel=\"rbf\", max_iter=500000)\n",
    "svm.fit(scaX_train, logY_train)\n",
    "svmpred = svm.predict(scaX_test)\n",
    "svmdata = np.exp(svmpred)\n",
    "print \"SVM score: {}\".format(R2(svmdata, Y_test))\n",
    "print(\"SVM trained %s seconds\" % (time.time() - start_time))"
   ]
  },
  {
   "cell_type": "code",
   "execution_count": 82,
   "metadata": {
    "collapsed": false
   },
   "outputs": [
    {
     "name": "stdout",
     "output_type": "stream",
     "text": [
      "Neural Network score: 0.817066992151\n",
      "NN trained 67.1343359947 seconds\n"
     ]
    }
   ],
   "source": [
    "start_time = time.time()\n",
    "\n",
    "pr = PR(hidden_layer_sizes = (200,200), activation = 'tanh', alpha = 0.01, batch_size = 1000, random_state = 0, early_stopping = True, max_iter = 50, learning_rate_init = 0.01)\n",
    "\n",
    "pr.fit(scaX_train, logY_train)\n",
    "prpred = pr.predict(scaX_test)\n",
    "prdata = np.exp(prpred)\n",
    "print \"Neural Network score: {}\".format(R2(prdata, Y_test))\n",
    "print(\"NN trained %s seconds\" % (time.time() - start_time))"
   ]
  },
  {
   "cell_type": "code",
   "execution_count": 83,
   "metadata": {
    "collapsed": false
   },
   "outputs": [
    {
     "data": {
      "text/html": [
       "<div>\n",
       "<table border=\"1\" class=\"dataframe\">\n",
       "  <thead>\n",
       "    <tr style=\"text-align: right;\">\n",
       "      <th></th>\n",
       "      <th>price</th>\n",
       "      <th>LR</th>\n",
       "      <th>DTR</th>\n",
       "      <th>KNN</th>\n",
       "      <th>RFR</th>\n",
       "      <th>SVM</th>\n",
       "      <th>PR</th>\n",
       "    </tr>\n",
       "  </thead>\n",
       "  <tbody>\n",
       "    <tr>\n",
       "      <th>count</th>\n",
       "      <td>99727.000000</td>\n",
       "      <td>99727.000000</td>\n",
       "      <td>99727.000000</td>\n",
       "      <td>99727.000000</td>\n",
       "      <td>99727.000000</td>\n",
       "      <td>99727.000000</td>\n",
       "      <td>99727.000000</td>\n",
       "    </tr>\n",
       "    <tr>\n",
       "      <th>mean</th>\n",
       "      <td>5997.077261</td>\n",
       "      <td>5558.424073</td>\n",
       "      <td>6019.453720</td>\n",
       "      <td>5998.253324</td>\n",
       "      <td>6037.402844</td>\n",
       "      <td>5813.803671</td>\n",
       "      <td>5697.418865</td>\n",
       "    </tr>\n",
       "    <tr>\n",
       "      <th>std</th>\n",
       "      <td>6573.843816</td>\n",
       "      <td>6305.452691</td>\n",
       "      <td>6364.381518</td>\n",
       "      <td>6109.980762</td>\n",
       "      <td>6270.905524</td>\n",
       "      <td>6103.687423</td>\n",
       "      <td>5870.396534</td>\n",
       "    </tr>\n",
       "    <tr>\n",
       "      <th>min</th>\n",
       "      <td>100.000000</td>\n",
       "      <td>127.094595</td>\n",
       "      <td>150.000000</td>\n",
       "      <td>100.000000</td>\n",
       "      <td>208.489854</td>\n",
       "      <td>205.906027</td>\n",
       "      <td>214.535388</td>\n",
       "    </tr>\n",
       "    <tr>\n",
       "      <th>25%</th>\n",
       "      <td>1500.000000</td>\n",
       "      <td>1639.718500</td>\n",
       "      <td>1650.230769</td>\n",
       "      <td>1742.057533</td>\n",
       "      <td>1688.020903</td>\n",
       "      <td>1603.862103</td>\n",
       "      <td>1558.886649</td>\n",
       "    </tr>\n",
       "    <tr>\n",
       "      <th>50%</th>\n",
       "      <td>3699.000000</td>\n",
       "      <td>3437.181807</td>\n",
       "      <td>3739.857143</td>\n",
       "      <td>3827.157150</td>\n",
       "      <td>3810.449641</td>\n",
       "      <td>3593.357748</td>\n",
       "      <td>3535.755349</td>\n",
       "    </tr>\n",
       "    <tr>\n",
       "      <th>75%</th>\n",
       "      <td>7999.000000</td>\n",
       "      <td>6914.318073</td>\n",
       "      <td>8080.153846</td>\n",
       "      <td>8091.238671</td>\n",
       "      <td>8165.861576</td>\n",
       "      <td>7809.670171</td>\n",
       "      <td>7735.859257</td>\n",
       "    </tr>\n",
       "    <tr>\n",
       "      <th>max</th>\n",
       "      <td>74900.000000</td>\n",
       "      <td>93520.163592</td>\n",
       "      <td>59799.000000</td>\n",
       "      <td>64872.485545</td>\n",
       "      <td>63664.120357</td>\n",
       "      <td>76989.080369</td>\n",
       "      <td>66946.950875</td>\n",
       "    </tr>\n",
       "  </tbody>\n",
       "</table>\n",
       "</div>"
      ],
      "text/plain": [
       "              price            LR           DTR           KNN           RFR  \\\n",
       "count  99727.000000  99727.000000  99727.000000  99727.000000  99727.000000   \n",
       "mean    5997.077261   5558.424073   6019.453720   5998.253324   6037.402844   \n",
       "std     6573.843816   6305.452691   6364.381518   6109.980762   6270.905524   \n",
       "min      100.000000    127.094595    150.000000    100.000000    208.489854   \n",
       "25%     1500.000000   1639.718500   1650.230769   1742.057533   1688.020903   \n",
       "50%     3699.000000   3437.181807   3739.857143   3827.157150   3810.449641   \n",
       "75%     7999.000000   6914.318073   8080.153846   8091.238671   8165.861576   \n",
       "max    74900.000000  93520.163592  59799.000000  64872.485545  63664.120357   \n",
       "\n",
       "                SVM            PR  \n",
       "count  99727.000000  99727.000000  \n",
       "mean    5813.803671   5697.418865  \n",
       "std     6103.687423   5870.396534  \n",
       "min      205.906027    214.535388  \n",
       "25%     1603.862103   1558.886649  \n",
       "50%     3593.357748   3535.755349  \n",
       "75%     7809.670171   7735.859257  \n",
       "max    76989.080369  66946.950875  "
      ]
     },
     "execution_count": 83,
     "metadata": {},
     "output_type": "execute_result"
    }
   ],
   "source": [
    "All_train = np.transpose(np.asarray((lrdata, dtrdata, kNNdata, rfrdata, svmdata, prdata)))\n",
    "\n",
    "df = pd.DataFrame(data = All_train, columns = [\"LR\", \"DTR\",\"KNN\", \"RFR\", \"SVM\", \"PR\"])\n",
    "df.insert(loc=0,column=\"price\", value = Y_test)\n",
    "df.describe()"
   ]
  },
  {
   "cell_type": "code",
   "execution_count": 85,
   "metadata": {
    "collapsed": false
   },
   "outputs": [
    {
     "data": {
      "image/png": "[encoded data removed]",
      "text/plain": [
       "<matplotlib.figure.Figure at 0x11e2e7290>"
      ]
     },
     "metadata": {},
     "output_type": "display_data"
    }
   ],
   "source": [
    "fig, ax = plt.subplots(figsize=(10,10)) \n",
    "sns.heatmap(df.corr(), annot = False, vmax = 1.0, square = True, linewidth = 0.1, cmap=\"PuBuGn\", ax = ax)\n",
    "sns.plt.show()"
   ]
  },
  {
   "cell_type": "code",
   "execution_count": 89,
   "metadata": {
    "collapsed": false
   },
   "outputs": [],
   "source": [
    "l = [rfrdata, Y_test]\n",
    "l = map(list, zip(*l))\n",
    "res = pd.DataFrame(data=l, columns = [\"Predict\", \"Real\"])"
   ]
  },
  {
   "cell_type": "code",
   "execution_count": 111,
   "metadata": {
    "collapsed": false
   },
   "outputs": [
    {
     "data": {
      "text/plain": [
       "count    99727.000000\n",
       "mean        -0.215366\n",
       "std          1.805966\n",
       "min       -141.811130\n",
       "25%         -0.243180\n",
       "50%         -0.025344\n",
       "75%          0.117213\n",
       "max          0.975805\n",
       "Name: ratio, dtype: float64"
      ]
     },
     "execution_count": 111,
     "metadata": {},
     "output_type": "execute_result"
    }
   ],
   "source": [
    "res[\"ratio\"] = (-1 * res[\"Predict\"] / res[\"Real\"]) + 1\n",
    "res[\"ratio\"].describe()"
   ]
  },
  {
   "cell_type": "code",
   "execution_count": 115,
   "metadata": {
    "collapsed": false
   },
   "outputs": [
    {
     "name": "stdout",
     "output_type": "stream",
     "text": [
      "Predict    31418.448648\n",
      "Real         220.000000\n",
      "ratio       -141.811130\n",
      "Name: 39764, dtype: float64\n",
      "[   0.   64.    0.  143.   30.   11.    0.    0.   95.  222.   37.    0.]\n",
      "transporter\n",
      "volkswagen\n",
      "bus\n"
     ]
    }
   ],
   "source": [
    "print res.loc[39764]\n",
    "print X_test[39764]\n",
    "print encoder[\"model\"].inverse_transform(222)\n",
    "print encoder[\"brand\"].inverse_transform(37)\n",
    "print encoder[\"vehicleType\"].inverse_transform(0)"
   ]
  },
  {
   "cell_type": "code",
   "execution_count": 109,
   "metadata": {
    "collapsed": false
   },
   "outputs": [
    {
     "data": {
      "image/png": "[encoded data removed]",
      "text/plain": [
       "<matplotlib.figure.Figure at 0x1131eef10>"
      ]
     },
     "metadata": {},
     "output_type": "display_data"
    }
   ],
   "source": [
    "plt.plot(res[\"Real\"], res[\"ratio\"], 'o')\n",
    "plt.xlim(-1000,20000)\n",
    "plt.ylim(-5,1.5)\n",
    "plt.show()"
   ]
  },
  {
   "cell_type": "code",
   "execution_count": null,
   "metadata": {
    "collapsed": true
   },
   "outputs": [],
   "source": []
  }
 ],
 "metadata": {
  "kernelspec": {
   "display_name": "Python 2",
   "language": "python",
   "name": "python2"
  },
  "language_info": {
   "codemirror_mode": {
    "name": "ipython",
    "version": 2
   },
   "file_extension": ".py",
   "mimetype": "text/x-python",
   "name": "python",
   "nbconvert_exporter": "python",
   "pygments_lexer": "ipython2",
   "version": "2.7.13"
  }
 },
 "nbformat": 4,
 "nbformat_minor": 2
}
